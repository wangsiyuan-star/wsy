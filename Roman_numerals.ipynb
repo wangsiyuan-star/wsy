{
 "cells": [
  {
   "cell_type": "code",
   "execution_count": 67,
   "metadata": {},
   "outputs": [],
   "source": [
    "class Roman_numerals:    #创建\n",
    "    \n",
    "    def __init__(self,num):\n",
    "        self.num = num\n",
    "        \n",
    "    def roman_convert(self):\n",
    "        num_str = \"\"\n",
    "        roman_list = [[\"\",\"I\",\"II\",\"III\",\"IV\",\"V\",\"VI\",\"VII\",\"VIII\",\"IX\"],\n",
    "                      [\"\",\"X\",\"XX\",\"XXX\",\"XL\",\"L\",\"LX\",\"LXX\",\"LXXX\",\"XC\"],\n",
    "                      [\"\",\"C\",\"CC\",\"CCC\",\"CD\",\"D\",\"DC\",\"DCC\",\"DCCC\",\"CM\"],\n",
    "                      [\"\",\"M\",\"MM\",\"MMM\"]]\n",
    "        dividend = int(1000)\n",
    "        for i in range(4):\n",
    "            current_num = (self.num - self.num % dividend)/dividend\n",
    "            num_str += roman_list[3-i][int(current_num)]\n",
    "            self.num = self.num - current_num * dividend\n",
    "            dividend /= 10\n",
    "#             print(self.num)\n",
    "#             print(dividend)\n",
    "#             print(current_num)\n",
    "#             print(num_str)\n",
    "            \n",
    "        print(num_str)\n",
    "        "
   ]
  },
  {
   "cell_type": "code",
   "execution_count": 70,
   "metadata": {},
   "outputs": [
    {
     "name": "stdout",
     "output_type": "stream",
     "text": [
      "LXXVII\n"
     ]
    }
   ],
   "source": [
    "num = Roman_numerals(77)\n",
    "num.roman_convert()\n"
   ]
  }
 ],
 "metadata": {
  "kernelspec": {
   "display_name": "Python 3",
   "language": "python",
   "name": "python3"
  },
  "language_info": {
   "codemirror_mode": {
    "name": "ipython",
    "version": 3
   },
   "file_extension": ".py",
   "mimetype": "text/x-python",
   "name": "python",
   "nbconvert_exporter": "python",
   "pygments_lexer": "ipython3",
   "version": "3.8.3"
  }
 },
 "nbformat": 4,
 "nbformat_minor": 4
}
