{
 "cells": [
  {
   "cell_type": "code",
   "execution_count": 1,
   "metadata": {
    "scrolled": true
   },
   "outputs": [
    {
     "data": {
      "text/plain": [
       "'数据清洗'"
      ]
     },
     "execution_count": 1,
     "metadata": {},
     "output_type": "execute_result"
    }
   ],
   "source": [
    "import pandas as pd\n",
    "import numpy as np\n",
    "import re\n",
    "\n",
    "\"\"\"读入数据\"\"\"\n",
    "bras = pd.read_csv(r'C:\\Users\\86188\\Desktop\\bra.csv')\n",
    "colors = pd.read_csv(r'C:\\Users\\86188\\Desktop\\colors.csv')\n",
    "colors.columns = [\"index\",\"productColor\",\"newColor\"]    #修改colors表的列名\n",
    "bras_merge = pd.merge(left=bras, right=colors, left_on=\"productColor\", right_on=\"productColor\")    #合并两张表格\n",
    "# bras_merge\n",
    "\n",
    "bras_merge = bras_merge.dropna()    #删除有缺失值的行\n",
    "# bras_merge\n",
    "\n",
    "bras_merge['productType'] = 'bra'\n",
    "\n",
    "\n",
    "\"\"\"数据清洗\"\"\"\n",
    "# for i in range(len(bras_merge)):\n",
    "#     if \"套装\" in brasmerge.loc[i,\"\"]\n",
    "# pattern_one = re.compile(r\"[7-9]{2}[A-Z]\")\n",
    "# pattern_two = re.compile(r\"[A-Z][7-9]{2}\")\n",
    "# pattern_three = \n"
   ]
  },
  {
   "cell_type": "code",
   "execution_count": 2,
   "metadata": {},
   "outputs": [
    {
     "data": {
      "text/plain": [
       "<bound method DataFrame.info of               creationTime productColor productSize  index newColor  \\\n",
       "0      2016-06-08 17:17:00        22咖啡色         75C      0       棕色   \n",
       "1      2017-04-07 19:34:25        22咖啡色         80B      0       棕色   \n",
       "2      2017-08-03 20:39:18        22咖啡色         80B      0       棕色   \n",
       "3      2016-07-06 14:02:08        22咖啡色         75B      0       棕色   \n",
       "4      2017-03-18 11:49:55        22咖啡色         80B      0       棕色   \n",
       "...                    ...          ...         ...    ...      ...   \n",
       "15492  2017-11-03 16:39:13    粉色套装（含内裤）     34A/75A    116       粉色   \n",
       "15493  2017-11-07 23:03:10    粉色套装（含内裤）     34B/75B    116       粉色   \n",
       "15494  2017-11-14 17:25:37    粉色套装（含内裤）     34A/75A    116       粉色   \n",
       "15495  2017-11-11 00:13:32    粉色套装（含内裤）     36C/80C    116       粉色   \n",
       "15496  2016-12-20 13:51:34           虾粉     34B=75B    117       粉色   \n",
       "\n",
       "      productType  \n",
       "0             bra  \n",
       "1             bra  \n",
       "2             bra  \n",
       "3             bra  \n",
       "4             bra  \n",
       "...           ...  \n",
       "15492         bra  \n",
       "15493         bra  \n",
       "15494         bra  \n",
       "15495         bra  \n",
       "15496         bra  \n",
       "\n",
       "[15496 rows x 6 columns]>"
      ]
     },
     "execution_count": 2,
     "metadata": {},
     "output_type": "execute_result"
    }
   ],
   "source": [
    "bras_merge.info"
   ]
  },
  {
   "cell_type": "code",
   "execution_count": 3,
   "metadata": {},
   "outputs": [],
   "source": [
    "\"\"\"数据清洗1\"\"\"\n",
    "\n",
    "pattern_one = re.compile(r\"[7-9]\\d[A-Z]\",re.I)    #提取格式1:75A\n",
    "pattern_two = re.compile(r\"[A-Z][7-9]\\d\",re.I)    #提取格式2：A75\n",
    "# pattern_three = re.complile(r\"\")\n",
    "# count_1 = 0\n",
    "# count_2 = 0\n",
    "# count_3 = 0\n",
    "# count_suit = 0\n",
    "\n",
    "for i in range(len(bras_merge)):\n",
    "    \n",
    "    if \"套装\" in bras_merge.iloc[i ,1]:    #将套装的productType的属性修改为suit\n",
    "        bras_merge.iloc[i,5] = \"suit\"\n",
    "#         count_suit += 1\n",
    "        \n",
    "    \"\"\"个别不符合格式要求的size手动调整\"\"\"   \n",
    "    if bras_merge.iloc[i,2] == \"85/38C\":\n",
    "        bras_merge.iloc[i,2] = \"85C\"    \n",
    "     \n",
    "    \"\"\"将两种格式的字符串提取出来，统一修改成格式1\"\"\"\n",
    "    if re.findall(pattern_one,bras_merge.iloc[i,2]):\n",
    "        size = re.findall(pattern_one,bras_merge.iloc[i,2])[0]\n",
    "        bras_merge.iloc[i,2] = size[0:2] + size[-1].upper()\n",
    "#         count_1 += 1\n",
    "        \n",
    "    elif re.findall(pattern_two,bras_merge.iloc[i,2]):\n",
    "        size = re.findall(pattern_two,bras_merge.iloc[i,2])[0]\n",
    "        bras_merge.iloc[i,2] = size[1:3] + size[0].upper()\n",
    "#         count_2 += 1\n",
    "    \n",
    "    else:\n",
    "#         count_3 += 1\n",
    "        continue\n",
    "\n",
    "\n",
    "# print(count_1)        \n",
    "# print(count_2)   \n",
    "# print(count_3) \n",
    "# print(count_suit)"
   ]
  },
  {
   "cell_type": "code",
   "execution_count": 4,
   "metadata": {},
   "outputs": [
    {
     "data": {
      "text/plain": [
       "75B          6954\n",
       "80B          3968\n",
       "85B           998\n",
       "80C           581\n",
       "75A           488\n",
       "70B           459\n",
       "75D           360\n",
       "75C           357\n",
       "80A           270\n",
       "85C           259\n",
       "70A           171\n",
       "165/76/L      152\n",
       "160/70/M      113\n",
       "85A           100\n",
       "170/82/XL      75\n",
       "90C            39\n",
       "70C            27\n",
       "90D            21\n",
       "90B            20\n",
       "85D            20\n",
       "80D            18\n",
       "85E            17\n",
       "80E             8\n",
       "75E             5\n",
       "90A             4\n",
       "95D             4\n",
       "95C             4\n",
       "90E             3\n",
       "95E             1\n",
       "Name: productSize, dtype: int64"
      ]
     },
     "execution_count": 4,
     "metadata": {},
     "output_type": "execute_result"
    }
   ],
   "source": [
    "bras_merge[\"productSize\"].value_counts()"
   ]
  },
  {
   "cell_type": "code",
   "execution_count": 5,
   "metadata": {},
   "outputs": [],
   "source": [
    "for i in range(len(bras_merge)):\n",
    "    if \"L\" in bras_merge.iloc[i,2] or \"M\" in bras_merge.iloc[i,2] or \"XL\" in bras_merge.iloc[i,2]:\n",
    "        bras_merge.iloc[i,5] = \"pant\"\n"
   ]
  },
  {
   "cell_type": "code",
   "execution_count": 6,
   "metadata": {},
   "outputs": [
    {
     "data": {
      "text/plain": [
       "bra     15021\n",
       "pant      340\n",
       "suit      135\n",
       "Name: productType, dtype: int64"
      ]
     },
     "execution_count": 6,
     "metadata": {},
     "output_type": "execute_result"
    }
   ],
   "source": [
    "bras_merge[\"productType\"].value_counts()"
   ]
  },
  {
   "cell_type": "code",
   "execution_count": 7,
   "metadata": {},
   "outputs": [
    {
     "data": {
      "text/html": [
       "<div>\n",
       "<style scoped>\n",
       "    .dataframe tbody tr th:only-of-type {\n",
       "        vertical-align: middle;\n",
       "    }\n",
       "\n",
       "    .dataframe tbody tr th {\n",
       "        vertical-align: top;\n",
       "    }\n",
       "\n",
       "    .dataframe thead th {\n",
       "        text-align: right;\n",
       "    }\n",
       "</style>\n",
       "<table border=\"1\" class=\"dataframe\">\n",
       "  <thead>\n",
       "    <tr style=\"text-align: right;\">\n",
       "      <th></th>\n",
       "      <th>creationTime</th>\n",
       "      <th>productColor</th>\n",
       "      <th>productSize</th>\n",
       "      <th>index</th>\n",
       "      <th>newColor</th>\n",
       "      <th>productType</th>\n",
       "      <th>creationMonth</th>\n",
       "    </tr>\n",
       "  </thead>\n",
       "  <tbody>\n",
       "    <tr>\n",
       "      <th>0</th>\n",
       "      <td>2016-06-08 17:17:00</td>\n",
       "      <td>22咖啡色</td>\n",
       "      <td>75C</td>\n",
       "      <td>0</td>\n",
       "      <td>棕色</td>\n",
       "      <td>bra</td>\n",
       "      <td>6</td>\n",
       "    </tr>\n",
       "    <tr>\n",
       "      <th>1</th>\n",
       "      <td>2017-04-07 19:34:25</td>\n",
       "      <td>22咖啡色</td>\n",
       "      <td>80B</td>\n",
       "      <td>0</td>\n",
       "      <td>棕色</td>\n",
       "      <td>bra</td>\n",
       "      <td>4</td>\n",
       "    </tr>\n",
       "    <tr>\n",
       "      <th>2</th>\n",
       "      <td>2017-08-03 20:39:18</td>\n",
       "      <td>22咖啡色</td>\n",
       "      <td>80B</td>\n",
       "      <td>0</td>\n",
       "      <td>棕色</td>\n",
       "      <td>bra</td>\n",
       "      <td>8</td>\n",
       "    </tr>\n",
       "    <tr>\n",
       "      <th>3</th>\n",
       "      <td>2016-07-06 14:02:08</td>\n",
       "      <td>22咖啡色</td>\n",
       "      <td>75B</td>\n",
       "      <td>0</td>\n",
       "      <td>棕色</td>\n",
       "      <td>bra</td>\n",
       "      <td>7</td>\n",
       "    </tr>\n",
       "    <tr>\n",
       "      <th>4</th>\n",
       "      <td>2017-03-18 11:49:55</td>\n",
       "      <td>22咖啡色</td>\n",
       "      <td>80B</td>\n",
       "      <td>0</td>\n",
       "      <td>棕色</td>\n",
       "      <td>bra</td>\n",
       "      <td>3</td>\n",
       "    </tr>\n",
       "  </tbody>\n",
       "</table>\n",
       "</div>"
      ],
      "text/plain": [
       "         creationTime productColor productSize  index newColor productType  \\\n",
       "0 2016-06-08 17:17:00        22咖啡色         75C      0       棕色         bra   \n",
       "1 2017-04-07 19:34:25        22咖啡色         80B      0       棕色         bra   \n",
       "2 2017-08-03 20:39:18        22咖啡色         80B      0       棕色         bra   \n",
       "3 2016-07-06 14:02:08        22咖啡色         75B      0       棕色         bra   \n",
       "4 2017-03-18 11:49:55        22咖啡色         80B      0       棕色         bra   \n",
       "\n",
       "   creationMonth  \n",
       "0              6  \n",
       "1              4  \n",
       "2              8  \n",
       "3              7  \n",
       "4              3  "
      ]
     },
     "execution_count": 7,
     "metadata": {},
     "output_type": "execute_result"
    }
   ],
   "source": [
    "bras_merge[\"creationTime\"]= pd.to_datetime(bras_merge[\"creationTime\"],errors='coerce')\n",
    "bras_merge['creationMonth'] = bras_merge['creationTime'].dt.month.fillna(0).astype(\"int\")\n",
    "bras_merge.head()"
   ]
  },
  {
   "cell_type": "code",
   "execution_count": 9,
   "metadata": {},
   "outputs": [],
   "source": [
    "# bras_merge.to_csv(r'C:\\Users\\86188\\Desktop\\bras_merge.csv',index=False)"
   ]
  }
 ],
 "metadata": {
  "kernelspec": {
   "display_name": "Python 3",
   "language": "python",
   "name": "python3"
  },
  "language_info": {
   "codemirror_mode": {
    "name": "ipython",
    "version": 3
   },
   "file_extension": ".py",
   "mimetype": "text/x-python",
   "name": "python",
   "nbconvert_exporter": "python",
   "pygments_lexer": "ipython3",
   "version": "3.8.3"
  }
 },
 "nbformat": 4,
 "nbformat_minor": 4
}
